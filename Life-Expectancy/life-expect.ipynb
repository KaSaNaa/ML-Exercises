{
 "cells": [
  {
   "cell_type": "code",
   "execution_count": null,
   "metadata": {},
   "outputs": [],
   "source": [
    "import numpy as np\n",
    "\n",
    "# computing the predictions\n",
    "def predict(X, w):\n",
    "    return np.matmul(X, w)\n",
    "\n",
    "# calculating the loss\n",
    "def loss(X, Y, w):\n",
    "    return np.average((predict(X, w) - Y) ** 2)\n",
    "\n",
    "# evaluating the gradient\n",
    "def gradient(X, Y, w):\n",
    "    return 2 * np.matmul(X.T, (predict(X, w) - Y)) / X.shape[0]\n",
    "\n",
    "# performing the training phase for our classifier\n",
    "def train(X, Y, iterations, lr):\n",
    "    w = np.zeros((X.shape[1], 1))\n",
    "    for i in range(iterations):\n",
    "        print(\"Iteration %4d => Loss: %.20f\" % (i, loss(X, Y, w)))\n",
    "        w -= gradient(X, Y, w) * lr\n",
    "    return w\n",
    "\n",
    "# loading the data first and then training the classifier for 5000000 iteration\n",
    "FILENAME = \"life-expectancy-without-country-names.txt\"\n",
    "x1, x2, x3, y = np.loadtxt(FILENAME, skiprows=1, unpack=True)\n",
    "X = np.column_stack((np.ones(x1.size), x1, x2, x3))\n",
    "Y = y.reshape(-1, 1)\n",
    "w = train(X, Y, iterations=100, lr=0.0001)\n",
    "\n",
    "print(\"\\nWeights: %s\" % w.T)\n",
    "print(\"\\nA few predictions:\")\n",
    "for i in range(10):\n",
    "    print(\"X[%d] -> %.4f (label: %d)\" % (i, predict(X[i], w), Y[i]))"
   ]
  }
 ],
 "metadata": {
  "kernelspec": {
   "display_name": "Python 3",
   "language": "python",
   "name": "python3"
  },
  "language_info": {
   "codemirror_mode": {
    "name": "ipython",
    "version": 3
   },
   "file_extension": ".py",
   "mimetype": "text/x-python",
   "name": "python",
   "nbconvert_exporter": "python",
   "pygments_lexer": "ipython3",
   "version": "3.12.0"
  }
 },
 "nbformat": 4,
 "nbformat_minor": 2
}
